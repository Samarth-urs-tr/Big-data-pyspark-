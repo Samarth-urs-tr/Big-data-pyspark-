{
  "nbformat": 4,
  "nbformat_minor": 0,
  "metadata": {
    "colab": {
      "provenance": []
    },
    "kernelspec": {
      "name": "python3",
      "display_name": "Python 3"
    },
    "language_info": {
      "name": "python"
    }
  },
  "cells": [
    {
      "cell_type": "code",
      "execution_count": null,
      "metadata": {
        "colab": {
          "base_uri": "https://localhost:8080/"
        },
        "id": "p91W-o3F7S_Y",
        "outputId": "4bb0d456-d3d6-4d56-d05e-e51094221658"
      },
      "outputs": [
        {
          "output_type": "stream",
          "name": "stdout",
          "text": [
            "Requirement already satisfied: pyspark==3.1.2 in /usr/local/lib/python3.10/dist-packages (3.1.2)\n",
            "Requirement already satisfied: py4j==0.10.9 in /usr/local/lib/python3.10/dist-packages (from pyspark==3.1.2) (0.10.9)\n"
          ]
        }
      ],
      "source": [
        "\n",
        "!pip install pyspark==3.1.2"
      ]
    },
    {
      "cell_type": "code",
      "source": [
        "from pyspark import SparkConf, SparkContext\n",
        "import random\n",
        "\n",
        "# Initialize Spark\n",
        "conf = SparkConf().setAppName(\"Circle_Area\")\n",
        "sc = SparkContext(conf=conf)"
      ],
      "metadata": {
        "id": "D_zcwNfJ7mz6"
      },
      "execution_count": null,
      "outputs": []
    },
    {
      "cell_type": "code",
      "source": [
        "num_darts = 1000000\n",
        "\n",
        "random.seed(42)\n",
        "points = sc.parallelize([(random.uniform(-1, 1), random.uniform(-1, 1)) for _ in range(num_darts)])"
      ],
      "metadata": {
        "id": "OCA-1ZKU71Pd"
      },
      "execution_count": null,
      "outputs": []
    },
    {
      "cell_type": "code",
      "source": [
        "def is_inside_circle(point):\n",
        "    x, y = point\n",
        "    return x**2 + y**2 <= 1"
      ],
      "metadata": {
        "id": "_D85P2Fo8A7K"
      },
      "execution_count": null,
      "outputs": []
    },
    {
      "cell_type": "code",
      "source": [
        "inside_circle_count = points.filter(is_inside_circle).count()\n",
        "estimated_area = inside_circle_count / num_darts * 4  # Multiply by 4 to account for the 2x2 square"
      ],
      "metadata": {
        "id": "IyxeT6cY8GUG"
      },
      "execution_count": null,
      "outputs": []
    },
    {
      "cell_type": "code",
      "source": [
        "print(\"Estimated Area of the Unit Circle:\", estimated_area)\n",
        "\n",
        "# Stop Spark\n",
        "sc.stop()"
      ],
      "metadata": {
        "colab": {
          "base_uri": "https://localhost:8080/"
        },
        "id": "Nz5VsQX28RtN",
        "outputId": "02e5eaea-dd95-440b-8740-450a5b984f77"
      },
      "execution_count": null,
      "outputs": [
        {
          "output_type": "stream",
          "name": "stdout",
          "text": [
            "Estimated Area of the Unit Circle: 3.140244\n"
          ]
        }
      ]
    },
    {
      "cell_type": "code",
      "source": [],
      "metadata": {
        "id": "g9Tn-LVc8TSK"
      },
      "execution_count": null,
      "outputs": []
    }
  ]
}