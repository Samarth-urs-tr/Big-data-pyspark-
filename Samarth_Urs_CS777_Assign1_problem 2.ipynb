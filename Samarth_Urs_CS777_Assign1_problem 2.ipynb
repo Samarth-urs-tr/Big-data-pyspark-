{
 "cells": [
  {
   "cell_type": "code",
   "execution_count": 1,
   "id": "67fd6b26",
   "metadata": {},
   "outputs": [
    {
     "data": {
      "text/html": [
       "<div>\n",
       "<style scoped>\n",
       "    .dataframe tbody tr th:only-of-type {\n",
       "        vertical-align: middle;\n",
       "    }\n",
       "\n",
       "    .dataframe tbody tr th {\n",
       "        vertical-align: top;\n",
       "    }\n",
       "\n",
       "    .dataframe thead th {\n",
       "        text-align: right;\n",
       "    }\n",
       "</style>\n",
       "<table border=\"1\" class=\"dataframe\">\n",
       "  <thead>\n",
       "    <tr style=\"text-align: right;\">\n",
       "      <th></th>\n",
       "      <th>medallion</th>\n",
       "      <th>hack_license</th>\n",
       "      <th>pickup_datetime</th>\n",
       "      <th>dropoff_datetime</th>\n",
       "      <th>trip_time_in_secs</th>\n",
       "      <th>trip_distance</th>\n",
       "      <th>pickup_longitude</th>\n",
       "      <th>pickup_latitude</th>\n",
       "      <th>dropoff_longitude</th>\n",
       "      <th>dropoff_latitude</th>\n",
       "      <th>payment_type</th>\n",
       "      <th>fare_amount</th>\n",
       "      <th>surcharge</th>\n",
       "      <th>mta_tax</th>\n",
       "      <th>tip_amount</th>\n",
       "      <th>tolls_amount</th>\n",
       "      <th>total_amount</th>\n",
       "    </tr>\n",
       "  </thead>\n",
       "  <tbody>\n",
       "    <tr>\n",
       "      <th>0</th>\n",
       "      <td>07290D3599E7A0D62097A346EFCC1FB5</td>\n",
       "      <td>E7750A37CAB07D0DFF0AF7E3573AC141</td>\n",
       "      <td>2013-01-01 00:00:00</td>\n",
       "      <td>2013-01-01 00:02:00</td>\n",
       "      <td>120</td>\n",
       "      <td>0.44</td>\n",
       "      <td>-73.956528</td>\n",
       "      <td>40.716976</td>\n",
       "      <td>-73.962440</td>\n",
       "      <td>40.715008</td>\n",
       "      <td>CSH</td>\n",
       "      <td>3.5</td>\n",
       "      <td>0.5</td>\n",
       "      <td>0.5</td>\n",
       "      <td>0.0</td>\n",
       "      <td>0.0</td>\n",
       "      <td>4.5</td>\n",
       "    </tr>\n",
       "    <tr>\n",
       "      <th>1</th>\n",
       "      <td>22D70BF00EEB0ADC83BA8177BB861991</td>\n",
       "      <td>3FF2709163DE7036FCAA4E5A3324E4BF</td>\n",
       "      <td>2013-01-01 00:02:00</td>\n",
       "      <td>2013-01-01 00:02:00</td>\n",
       "      <td>0</td>\n",
       "      <td>0.00</td>\n",
       "      <td>0.000000</td>\n",
       "      <td>0.000000</td>\n",
       "      <td>0.000000</td>\n",
       "      <td>0.000000</td>\n",
       "      <td>CSH</td>\n",
       "      <td>27.0</td>\n",
       "      <td>0.0</td>\n",
       "      <td>0.5</td>\n",
       "      <td>0.0</td>\n",
       "      <td>0.0</td>\n",
       "      <td>27.5</td>\n",
       "    </tr>\n",
       "    <tr>\n",
       "      <th>2</th>\n",
       "      <td>0EC22AAF491A8BD91F279350C2B010FD</td>\n",
       "      <td>778C92B26AE78A9EBDF96B49C67E4007</td>\n",
       "      <td>2013-01-01 00:01:00</td>\n",
       "      <td>2013-01-01 00:03:00</td>\n",
       "      <td>120</td>\n",
       "      <td>0.71</td>\n",
       "      <td>-73.973145</td>\n",
       "      <td>40.752827</td>\n",
       "      <td>-73.965897</td>\n",
       "      <td>40.760445</td>\n",
       "      <td>CSH</td>\n",
       "      <td>4.0</td>\n",
       "      <td>0.5</td>\n",
       "      <td>0.5</td>\n",
       "      <td>0.0</td>\n",
       "      <td>0.0</td>\n",
       "      <td>5.0</td>\n",
       "    </tr>\n",
       "    <tr>\n",
       "      <th>3</th>\n",
       "      <td>1390FB380189DF6BBFDA4DC847CAD14F</td>\n",
       "      <td>BE317B986700F63C43438482792C8654</td>\n",
       "      <td>2013-01-01 00:01:00</td>\n",
       "      <td>2013-01-01 00:03:00</td>\n",
       "      <td>120</td>\n",
       "      <td>0.48</td>\n",
       "      <td>-74.004173</td>\n",
       "      <td>40.720947</td>\n",
       "      <td>-74.003838</td>\n",
       "      <td>40.726189</td>\n",
       "      <td>CSH</td>\n",
       "      <td>4.0</td>\n",
       "      <td>0.5</td>\n",
       "      <td>0.5</td>\n",
       "      <td>0.0</td>\n",
       "      <td>0.0</td>\n",
       "      <td>5.0</td>\n",
       "    </tr>\n",
       "    <tr>\n",
       "      <th>4</th>\n",
       "      <td>3B4129883A1D05BE89F2C929DE136281</td>\n",
       "      <td>7077F9FD5AD649AEACA4746B2537E3FA</td>\n",
       "      <td>2013-01-01 00:01:00</td>\n",
       "      <td>2013-01-01 00:03:00</td>\n",
       "      <td>120</td>\n",
       "      <td>0.61</td>\n",
       "      <td>-73.987373</td>\n",
       "      <td>40.724861</td>\n",
       "      <td>-73.983772</td>\n",
       "      <td>40.730995</td>\n",
       "      <td>CRD</td>\n",
       "      <td>4.0</td>\n",
       "      <td>0.5</td>\n",
       "      <td>0.5</td>\n",
       "      <td>0.0</td>\n",
       "      <td>0.0</td>\n",
       "      <td>5.0</td>\n",
       "    </tr>\n",
       "  </tbody>\n",
       "</table>\n",
       "</div>"
      ],
      "text/plain": [
       "                          medallion                      hack_license  \\\n",
       "0  07290D3599E7A0D62097A346EFCC1FB5  E7750A37CAB07D0DFF0AF7E3573AC141   \n",
       "1  22D70BF00EEB0ADC83BA8177BB861991  3FF2709163DE7036FCAA4E5A3324E4BF   \n",
       "2  0EC22AAF491A8BD91F279350C2B010FD  778C92B26AE78A9EBDF96B49C67E4007   \n",
       "3  1390FB380189DF6BBFDA4DC847CAD14F  BE317B986700F63C43438482792C8654   \n",
       "4  3B4129883A1D05BE89F2C929DE136281  7077F9FD5AD649AEACA4746B2537E3FA   \n",
       "\n",
       "       pickup_datetime     dropoff_datetime  trip_time_in_secs  trip_distance  \\\n",
       "0  2013-01-01 00:00:00  2013-01-01 00:02:00                120           0.44   \n",
       "1  2013-01-01 00:02:00  2013-01-01 00:02:00                  0           0.00   \n",
       "2  2013-01-01 00:01:00  2013-01-01 00:03:00                120           0.71   \n",
       "3  2013-01-01 00:01:00  2013-01-01 00:03:00                120           0.48   \n",
       "4  2013-01-01 00:01:00  2013-01-01 00:03:00                120           0.61   \n",
       "\n",
       "   pickup_longitude  pickup_latitude  dropoff_longitude  dropoff_latitude  \\\n",
       "0        -73.956528        40.716976         -73.962440         40.715008   \n",
       "1          0.000000         0.000000           0.000000          0.000000   \n",
       "2        -73.973145        40.752827         -73.965897         40.760445   \n",
       "3        -74.004173        40.720947         -74.003838         40.726189   \n",
       "4        -73.987373        40.724861         -73.983772         40.730995   \n",
       "\n",
       "  payment_type  fare_amount  surcharge  mta_tax  tip_amount  tolls_amount  \\\n",
       "0          CSH          3.5        0.5      0.5         0.0           0.0   \n",
       "1          CSH         27.0        0.0      0.5         0.0           0.0   \n",
       "2          CSH          4.0        0.5      0.5         0.0           0.0   \n",
       "3          CSH          4.0        0.5      0.5         0.0           0.0   \n",
       "4          CRD          4.0        0.5      0.5         0.0           0.0   \n",
       "\n",
       "   total_amount  \n",
       "0           4.5  \n",
       "1          27.5  \n",
       "2           5.0  \n",
       "3           5.0  \n",
       "4           5.0  "
      ]
     },
     "execution_count": 1,
     "metadata": {},
     "output_type": "execute_result"
    }
   ],
   "source": [
    "import pandas as pd\n",
    "column_names = [\n",
    "    \"medallion\",\n",
    "    \"hack_license\",\n",
    "    \"pickup_datetime\",\n",
    "    \"dropoff_datetime\",\n",
    "    \"trip_time_in_secs\",\n",
    "    \"trip_distance\",\n",
    "    \"pickup_longitude\",\n",
    "    \"pickup_latitude\",\n",
    "    \"dropoff_longitude\",\n",
    "    \"dropoff_latitude\",\n",
    "    \"payment_type\",\n",
    "    \"fare_amount\",\n",
    "    \"surcharge\",\n",
    "    \"mta_tax\",\n",
    "    \"tip_amount\",\n",
    "    \"tolls_amount\",\n",
    "    \"total_amount\",\n",
    "]\n",
    "\n",
    "# Read the data from the CSV file and assign column names\n",
    "df = pd.read_csv(\"taxi-data-sorted-small.csv\", sep=',', header=None, names=column_names)\n",
    "df.head()"
   ]
  },
  {
   "cell_type": "code",
   "execution_count": 2,
   "id": "8572fa08",
   "metadata": {},
   "outputs": [
    {
     "data": {
      "text/plain": [
       "medallion            0\n",
       "hack_license         0\n",
       "pickup_datetime      0\n",
       "dropoff_datetime     0\n",
       "trip_time_in_secs    0\n",
       "trip_distance        0\n",
       "pickup_longitude     0\n",
       "pickup_latitude      0\n",
       "dropoff_longitude    0\n",
       "dropoff_latitude     0\n",
       "payment_type         0\n",
       "fare_amount          0\n",
       "surcharge            0\n",
       "mta_tax              0\n",
       "tip_amount           0\n",
       "tolls_amount         0\n",
       "total_amount         0\n",
       "dtype: int64"
      ]
     },
     "execution_count": 2,
     "metadata": {},
     "output_type": "execute_result"
    }
   ],
   "source": [
    "#Checking for missing values\n",
    "missing_values = df.isna().sum()\n",
    "missing_values"
   ]
  },
  {
   "cell_type": "code",
   "execution_count": 3,
   "id": "bae2d2a7",
   "metadata": {},
   "outputs": [
    {
     "data": {
      "text/plain": [
       "1999999"
      ]
     },
     "execution_count": 3,
     "metadata": {},
     "output_type": "execute_result"
    }
   ],
   "source": [
    "len(df)"
   ]
  },
  {
   "cell_type": "markdown",
   "id": "d559b8f2",
   "metadata": {},
   "source": [
    "# Task 1 : Top-10 Active Taxis "
   ]
  },
  {
   "cell_type": "code",
   "execution_count": 4,
   "id": "f444d015",
   "metadata": {},
   "outputs": [
    {
     "data": {
      "text/plain": [
       "medallion\n",
       "00005007A9F30E289E760362F69E4EAD    2\n",
       "000318C2E3E6381580E5C99910A60668    8\n",
       "0009986BDBAB2F9A125FEF49D0BFCCDD    1\n",
       "00153E36140C5B2A84EA308F355A7925    1\n",
       "001D3B86C2ACDEE4D1B98AFE52969F3D    1\n",
       "                                   ..\n",
       "FFED7CFCB1A658ADEC2DC6A899047060    2\n",
       "FFEE0D464EEA83AF6EA50CA5738B5610    1\n",
       "FFEF5E9BA26FC9B6B5F2CF433833572D    2\n",
       "FFF010F904EF7B60DAF12560AFE5127C    1\n",
       "FFFECF75AB6CC4FF9E8A8B633AB81C26    2\n",
       "Name: hack_license, Length: 10867, dtype: int64"
      ]
     },
     "execution_count": 4,
     "metadata": {},
     "output_type": "execute_result"
    }
   ],
   "source": [
    "driver_counts = df.groupby(\"medallion\")[\"hack_license\"].nunique()\n",
    "driver_counts"
   ]
  },
  {
   "cell_type": "code",
   "execution_count": 5,
   "id": "7c8bc45c",
   "metadata": {},
   "outputs": [],
   "source": [
    "top_ten_taxis = driver_counts.sort_values(ascending=False).head(10)\n"
   ]
  },
  {
   "cell_type": "code",
   "execution_count": 6,
   "id": "17c41080",
   "metadata": {},
   "outputs": [
    {
     "name": "stdout",
     "output_type": "stream",
     "text": [
      "Top ten taxis with the largest number of drivers:\n",
      "Medallion: 65EFB7D02BAD12D5DE757CB5D350944E, Number of Drivers: 20\n",
      "Medallion: 3C08296D0EB7ABE24FB7328DE9B62813, Number of Drivers: 20\n",
      "Medallion: 7DEB25123AE57111F912C0EBF92F1F63, Number of Drivers: 19\n",
      "Medallion: 799153A138F4E8334A1A95AE25040B83, Number of Drivers: 19\n",
      "Medallion: 3B6AE3CF05F34ADC91DC68D20F2EB913, Number of Drivers: 19\n",
      "Medallion: F36564AB9C6EA3B6373EB0E1680A447A, Number of Drivers: 19\n",
      "Medallion: 55D311AD2752BC278BEF7386B25B28A9, Number of Drivers: 19\n",
      "Medallion: CD7B02776E69483397952DC5E1F44DFE, Number of Drivers: 19\n",
      "Medallion: F2A08960199BCDB7EE19411A8E7A4C5D, Number of Drivers: 18\n",
      "Medallion: 6B15D153B49701AD86A2E62468990B73, Number of Drivers: 18\n"
     ]
    }
   ],
   "source": [
    "print(\"Top ten taxis with the largest number of drivers:\")\n",
    "for medallion, num_drivers in top_ten_taxis.items():\n",
    "    print(f\"Medallion: {medallion}, Number of Drivers: {num_drivers}\")"
   ]
  },
  {
   "cell_type": "markdown",
   "id": "36bac5bb",
   "metadata": {},
   "source": [
    "# Task 2 - Top-10 Best Drivers "
   ]
  },
  {
   "cell_type": "code",
   "execution_count": 7,
   "id": "f3248d57",
   "metadata": {},
   "outputs": [
    {
     "name": "stdout",
     "output_type": "stream",
     "text": [
      "Top 10 Best Drivers (driver, money per minute):\n",
      "                                 driver  money_per_minute\n",
      "13585  AB99BCE7F14E04800ECA76197D5A054D         89.508197\n",
      "1687   156109AB38DC8759A84319BBCA20D49A         77.753876\n",
      "16610  D21B106FDDFB5368574C4D8C2088C9EC         72.757895\n",
      "17990  E3327181970F3A10BB4572E65883BB3A         50.454545\n",
      "3913   32187D24B8C6D9DC9B1254330292F42E         45.336264\n",
      "9591   7930AF3429B99C59346390635AFDFFCF         37.312369\n",
      "1688   15661F3540CB2AAFAE5A2E9488256A85         32.727273\n",
      "88     011AE79C7E609378068514E5C992B6D6         31.470588\n",
      "6987   583D58A6E31DBAF275DDFAD1857448D2         26.619718\n",
      "15085  BED6F63CE2A4072BB48B6CAB6DF46518         24.220838\n",
      "Processing Time: 1.3920657634735107 seconds\n"
     ]
    }
   ],
   "source": [
    "import time\n",
    "start_time = time.time()\n",
    "\n",
    "df = df[(df['total_amount'] > 0) & (df['trip_time_in_secs'] > 60)]\n",
    "\n",
    "# Calculate money earned per minute for each trip\n",
    "df['money_per_minute'] = df['total_amount'] / (df['trip_time_in_secs'] / 60)\n",
    "\n",
    "# Group the data by driver and calculate the average money earned per minute\n",
    "driver_money_per_minute = df.groupby('hack_license')['money_per_minute'].mean().reset_index()\n",
    "driver_money_per_minute.columns = ['driver', 'money_per_minute']\n",
    "\n",
    "sorted_drivers = driver_money_per_minute.sort_values(by='money_per_minute', ascending=False)\n",
    "\n",
    "top_10_drivers = sorted_drivers.head(10)\n",
    "\n",
    "print(\"Top 10 Best Drivers (driver, money per minute):\")\n",
    "print(top_10_drivers)\n",
    "\n",
    "end_time = time.time()\n",
    "processing_time = end_time - start_time\n",
    "print(f\"Processing Time: {processing_time} seconds\")"
   ]
  },
  {
   "cell_type": "markdown",
   "id": "22380e62",
   "metadata": {},
   "source": [
    "# Task 3 - Best time of the day to Work on Taxi "
   ]
  },
  {
   "cell_type": "code",
   "execution_count": 8,
   "id": "91ad16c1",
   "metadata": {},
   "outputs": [],
   "source": [
    "df1=pd.read_csv(\"taxi-data-sorted-small.csv\", sep=',', header=None, names=column_names)"
   ]
  },
  {
   "cell_type": "code",
   "execution_count": 9,
   "id": "c41269a2",
   "metadata": {},
   "outputs": [],
   "source": [
    "df1 = df1[(df1[\"trip_distance\"] > 0) & (~df1[\"surcharge\"].isna()) & (df1[\"surcharge\"]>0)]"
   ]
  },
  {
   "cell_type": "code",
   "execution_count": 10,
   "id": "a5121f62",
   "metadata": {},
   "outputs": [],
   "source": [
    "df1[\"pickup_datetime\"] = pd.to_datetime(df1[\"pickup_datetime\"])\n",
    "df1[\"hour_of_day\"] = df1[\"pickup_datetime\"].dt.hour"
   ]
  },
  {
   "cell_type": "code",
   "execution_count": 11,
   "id": "d8ab9e90",
   "metadata": {},
   "outputs": [],
   "source": [
    "df1[\"profit_ratio\"] = df1[\"surcharge\"] / df1[\"trip_distance\"]"
   ]
  },
  {
   "cell_type": "code",
   "execution_count": 12,
   "id": "fafb8877",
   "metadata": {},
   "outputs": [
    {
     "data": {
      "text/plain": [
       "11"
      ]
     },
     "execution_count": 12,
     "metadata": {},
     "output_type": "execute_result"
    }
   ],
   "source": [
    "hourly_profit_ratio = df1.groupby(\"hour_of_day\")[\"profit_ratio\"].mean()\n",
    "best_hour = hourly_profit_ratio.idxmax()\n",
    "best_hour"
   ]
  },
  {
   "cell_type": "code",
   "execution_count": 13,
   "id": "b59cda1a",
   "metadata": {},
   "outputs": [
    {
     "name": "stdout",
     "output_type": "stream",
     "text": [
      "The best time of the day with the highest profit ratio is hour 11\n"
     ]
    }
   ],
   "source": [
    "print(\"The best time of the day with the highest profit ratio is hour\", best_hour) "
   ]
  },
  {
   "cell_type": "code",
   "execution_count": null,
   "id": "7567e1a2",
   "metadata": {},
   "outputs": [],
   "source": []
  },
  {
   "cell_type": "code",
   "execution_count": null,
   "id": "76a6278e",
   "metadata": {},
   "outputs": [],
   "source": []
  },
  {
   "cell_type": "code",
   "execution_count": null,
   "id": "8867d22b",
   "metadata": {},
   "outputs": [],
   "source": []
  },
  {
   "cell_type": "code",
   "execution_count": null,
   "id": "aad04086",
   "metadata": {},
   "outputs": [],
   "source": []
  }
 ],
 "metadata": {
  "kernelspec": {
   "display_name": "Python 3 (ipykernel)",
   "language": "python",
   "name": "python3"
  },
  "language_info": {
   "codemirror_mode": {
    "name": "ipython",
    "version": 3
   },
   "file_extension": ".py",
   "mimetype": "text/x-python",
   "name": "python",
   "nbconvert_exporter": "python",
   "pygments_lexer": "ipython3",
   "version": "3.9.12"
  }
 },
 "nbformat": 4,
 "nbformat_minor": 5
}
