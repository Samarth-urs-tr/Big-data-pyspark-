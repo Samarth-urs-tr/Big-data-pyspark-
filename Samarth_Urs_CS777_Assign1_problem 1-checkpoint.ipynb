{
 "cells": [
  {
   "cell_type": "code",
   "execution_count": 1,
   "id": "54effd32",
   "metadata": {},
   "outputs": [],
   "source": [
    "import pandas as pd\n",
    "\n",
    "# Define the column names for the ratings and movies DataFrames\n",
    "ratings_cols = [\"UserID\", \"MovieID\", \"Rating\", \"Timestamp\"]\n",
    "movies_cols = [\"MovieID\", \"Title\", \"Genres\"]\n",
    "\n",
    "# Read the ratings.dat and  movies.dat file into a DataFrame\n",
    "ratings_df = pd.read_csv(\"ratings.dat\", sep=\"::\", header=None, names=ratings_cols, engine=\"python\") ##https://stackoverflow.com/questions/50628861/dat-file-import-in-pandas\n",
    "\n",
    "movies_df = pd.read_csv(\"movies.dat\", sep=\"::\", header=None, names=movies_cols, engine=\"python\")\n",
    "\n",
    "\n"
   ]
  },
  {
   "cell_type": "code",
   "execution_count": 2,
   "id": "1b8329ee",
   "metadata": {},
   "outputs": [
    {
     "data": {
      "text/html": [
       "<div>\n",
       "<style scoped>\n",
       "    .dataframe tbody tr th:only-of-type {\n",
       "        vertical-align: middle;\n",
       "    }\n",
       "\n",
       "    .dataframe tbody tr th {\n",
       "        vertical-align: top;\n",
       "    }\n",
       "\n",
       "    .dataframe thead th {\n",
       "        text-align: right;\n",
       "    }\n",
       "</style>\n",
       "<table border=\"1\" class=\"dataframe\">\n",
       "  <thead>\n",
       "    <tr style=\"text-align: right;\">\n",
       "      <th></th>\n",
       "      <th>UserID</th>\n",
       "      <th>MovieID</th>\n",
       "      <th>Rating</th>\n",
       "      <th>Timestamp</th>\n",
       "    </tr>\n",
       "  </thead>\n",
       "  <tbody>\n",
       "    <tr>\n",
       "      <th>0</th>\n",
       "      <td>1</td>\n",
       "      <td>122</td>\n",
       "      <td>5.0</td>\n",
       "      <td>838985046</td>\n",
       "    </tr>\n",
       "    <tr>\n",
       "      <th>1</th>\n",
       "      <td>1</td>\n",
       "      <td>185</td>\n",
       "      <td>5.0</td>\n",
       "      <td>838983525</td>\n",
       "    </tr>\n",
       "    <tr>\n",
       "      <th>2</th>\n",
       "      <td>1</td>\n",
       "      <td>231</td>\n",
       "      <td>5.0</td>\n",
       "      <td>838983392</td>\n",
       "    </tr>\n",
       "    <tr>\n",
       "      <th>3</th>\n",
       "      <td>1</td>\n",
       "      <td>292</td>\n",
       "      <td>5.0</td>\n",
       "      <td>838983421</td>\n",
       "    </tr>\n",
       "    <tr>\n",
       "      <th>4</th>\n",
       "      <td>1</td>\n",
       "      <td>316</td>\n",
       "      <td>5.0</td>\n",
       "      <td>838983392</td>\n",
       "    </tr>\n",
       "  </tbody>\n",
       "</table>\n",
       "</div>"
      ],
      "text/plain": [
       "   UserID  MovieID  Rating  Timestamp\n",
       "0       1      122     5.0  838985046\n",
       "1       1      185     5.0  838983525\n",
       "2       1      231     5.0  838983392\n",
       "3       1      292     5.0  838983421\n",
       "4       1      316     5.0  838983392"
      ]
     },
     "execution_count": 2,
     "metadata": {},
     "output_type": "execute_result"
    }
   ],
   "source": [
    "ratings_df.head()"
   ]
  },
  {
   "cell_type": "code",
   "execution_count": 3,
   "id": "888723e7",
   "metadata": {},
   "outputs": [
    {
     "data": {
      "text/html": [
       "<div>\n",
       "<style scoped>\n",
       "    .dataframe tbody tr th:only-of-type {\n",
       "        vertical-align: middle;\n",
       "    }\n",
       "\n",
       "    .dataframe tbody tr th {\n",
       "        vertical-align: top;\n",
       "    }\n",
       "\n",
       "    .dataframe thead th {\n",
       "        text-align: right;\n",
       "    }\n",
       "</style>\n",
       "<table border=\"1\" class=\"dataframe\">\n",
       "  <thead>\n",
       "    <tr style=\"text-align: right;\">\n",
       "      <th></th>\n",
       "      <th>MovieID</th>\n",
       "      <th>Title</th>\n",
       "      <th>Genres</th>\n",
       "    </tr>\n",
       "  </thead>\n",
       "  <tbody>\n",
       "    <tr>\n",
       "      <th>0</th>\n",
       "      <td>1</td>\n",
       "      <td>Toy Story (1995)</td>\n",
       "      <td>Adventure|Animation|Children|Comedy|Fantasy</td>\n",
       "    </tr>\n",
       "    <tr>\n",
       "      <th>1</th>\n",
       "      <td>2</td>\n",
       "      <td>Jumanji (1995)</td>\n",
       "      <td>Adventure|Children|Fantasy</td>\n",
       "    </tr>\n",
       "    <tr>\n",
       "      <th>2</th>\n",
       "      <td>3</td>\n",
       "      <td>Grumpier Old Men (1995)</td>\n",
       "      <td>Comedy|Romance</td>\n",
       "    </tr>\n",
       "    <tr>\n",
       "      <th>3</th>\n",
       "      <td>4</td>\n",
       "      <td>Waiting to Exhale (1995)</td>\n",
       "      <td>Comedy|Drama|Romance</td>\n",
       "    </tr>\n",
       "    <tr>\n",
       "      <th>4</th>\n",
       "      <td>5</td>\n",
       "      <td>Father of the Bride Part II (1995)</td>\n",
       "      <td>Comedy</td>\n",
       "    </tr>\n",
       "  </tbody>\n",
       "</table>\n",
       "</div>"
      ],
      "text/plain": [
       "   MovieID                               Title  \\\n",
       "0        1                    Toy Story (1995)   \n",
       "1        2                      Jumanji (1995)   \n",
       "2        3             Grumpier Old Men (1995)   \n",
       "3        4            Waiting to Exhale (1995)   \n",
       "4        5  Father of the Bride Part II (1995)   \n",
       "\n",
       "                                        Genres  \n",
       "0  Adventure|Animation|Children|Comedy|Fantasy  \n",
       "1                   Adventure|Children|Fantasy  \n",
       "2                               Comedy|Romance  \n",
       "3                         Comedy|Drama|Romance  \n",
       "4                                       Comedy  "
      ]
     },
     "execution_count": 3,
     "metadata": {},
     "output_type": "execute_result"
    }
   ],
   "source": [
    "movies_df.head()"
   ]
  },
  {
   "cell_type": "code",
   "execution_count": 4,
   "id": "7f0549db",
   "metadata": {},
   "outputs": [
    {
     "data": {
      "text/html": [
       "<div>\n",
       "<style scoped>\n",
       "    .dataframe tbody tr th:only-of-type {\n",
       "        vertical-align: middle;\n",
       "    }\n",
       "\n",
       "    .dataframe tbody tr th {\n",
       "        vertical-align: top;\n",
       "    }\n",
       "\n",
       "    .dataframe thead th {\n",
       "        text-align: right;\n",
       "    }\n",
       "</style>\n",
       "<table border=\"1\" class=\"dataframe\">\n",
       "  <thead>\n",
       "    <tr style=\"text-align: right;\">\n",
       "      <th></th>\n",
       "      <th>UserID</th>\n",
       "      <th>MovieID</th>\n",
       "      <th>Rating</th>\n",
       "      <th>Timestamp</th>\n",
       "      <th>Title</th>\n",
       "      <th>Genres</th>\n",
       "    </tr>\n",
       "  </thead>\n",
       "  <tbody>\n",
       "    <tr>\n",
       "      <th>0</th>\n",
       "      <td>1</td>\n",
       "      <td>122</td>\n",
       "      <td>5.0</td>\n",
       "      <td>838985046</td>\n",
       "      <td>Boomerang (1992)</td>\n",
       "      <td>Comedy|Romance</td>\n",
       "    </tr>\n",
       "    <tr>\n",
       "      <th>1</th>\n",
       "      <td>139</td>\n",
       "      <td>122</td>\n",
       "      <td>3.0</td>\n",
       "      <td>974302621</td>\n",
       "      <td>Boomerang (1992)</td>\n",
       "      <td>Comedy|Romance</td>\n",
       "    </tr>\n",
       "    <tr>\n",
       "      <th>2</th>\n",
       "      <td>149</td>\n",
       "      <td>122</td>\n",
       "      <td>2.5</td>\n",
       "      <td>1112342322</td>\n",
       "      <td>Boomerang (1992)</td>\n",
       "      <td>Comedy|Romance</td>\n",
       "    </tr>\n",
       "    <tr>\n",
       "      <th>3</th>\n",
       "      <td>182</td>\n",
       "      <td>122</td>\n",
       "      <td>3.0</td>\n",
       "      <td>943458784</td>\n",
       "      <td>Boomerang (1992)</td>\n",
       "      <td>Comedy|Romance</td>\n",
       "    </tr>\n",
       "    <tr>\n",
       "      <th>4</th>\n",
       "      <td>215</td>\n",
       "      <td>122</td>\n",
       "      <td>4.5</td>\n",
       "      <td>1102493547</td>\n",
       "      <td>Boomerang (1992)</td>\n",
       "      <td>Comedy|Romance</td>\n",
       "    </tr>\n",
       "  </tbody>\n",
       "</table>\n",
       "</div>"
      ],
      "text/plain": [
       "   UserID  MovieID  Rating   Timestamp             Title          Genres\n",
       "0       1      122     5.0   838985046  Boomerang (1992)  Comedy|Romance\n",
       "1     139      122     3.0   974302621  Boomerang (1992)  Comedy|Romance\n",
       "2     149      122     2.5  1112342322  Boomerang (1992)  Comedy|Romance\n",
       "3     182      122     3.0   943458784  Boomerang (1992)  Comedy|Romance\n",
       "4     215      122     4.5  1102493547  Boomerang (1992)  Comedy|Romance"
      ]
     },
     "execution_count": 4,
     "metadata": {},
     "output_type": "execute_result"
    }
   ],
   "source": [
    "#merging the two dataframes\n",
    "merged_df = pd.merge(ratings_df, movies_df, on=\"MovieID\")\n",
    "merged_df.head()"
   ]
  },
  {
   "cell_type": "code",
   "execution_count": 5,
   "id": "c59e9f1f",
   "metadata": {},
   "outputs": [
    {
     "data": {
      "text/plain": [
       "10000054"
      ]
     },
     "execution_count": 5,
     "metadata": {},
     "output_type": "execute_result"
    }
   ],
   "source": [
    "len(merged_df)"
   ]
  },
  {
   "cell_type": "markdown",
   "id": "bb20301a",
   "metadata": {},
   "source": [
    "# a.\tDivide the data to 5 almost equal size files and use the five files in the rest of the assignment "
   ]
  },
  {
   "cell_type": "code",
   "execution_count": 6,
   "id": "2f210f1b",
   "metadata": {},
   "outputs": [
    {
     "name": "stdout",
     "output_type": "stream",
     "text": [
      "Split 1 DataFrame:\n",
      "   UserID  MovieID  Rating   Timestamp             Title          Genres\n",
      "0       1      122     5.0   838985046  Boomerang (1992)  Comedy|Romance\n",
      "1     139      122     3.0   974302621  Boomerang (1992)  Comedy|Romance\n",
      "2     149      122     2.5  1112342322  Boomerang (1992)  Comedy|Romance\n",
      "3     182      122     3.0   943458784  Boomerang (1992)  Comedy|Romance\n",
      "4     215      122     4.5  1102493547  Boomerang (1992)  Comedy|Romance\n",
      "Split 2 DataFrame:\n",
      "         UserID  MovieID  Rating   Timestamp           Title  \\\n",
      "2000011   54365     1653     4.0   995943080  Gattaca (1997)   \n",
      "2000012   54366     1653     5.0  1108762231  Gattaca (1997)   \n",
      "2000013   54367     1653     4.0  1228561847  Gattaca (1997)   \n",
      "2000014   54376     1653     4.5  1228853139  Gattaca (1997)   \n",
      "2000015   54377     1653     4.0   944984829  Gattaca (1997)   \n",
      "\n",
      "                        Genres  \n",
      "2000011  Drama|Sci-Fi|Thriller  \n",
      "2000012  Drama|Sci-Fi|Thriller  \n",
      "2000013  Drama|Sci-Fi|Thriller  \n",
      "2000014  Drama|Sci-Fi|Thriller  \n",
      "2000015  Drama|Sci-Fi|Thriller  \n",
      "Split 3 DataFrame:\n",
      "         UserID  MovieID  Rating   Timestamp  \\\n",
      "4000022   28420     2700     2.0   974833792   \n",
      "4000023   28421     2700     4.5  1106604805   \n",
      "4000024   28426     2700     0.5  1098333711   \n",
      "4000025   28437     2700     4.0  1098348155   \n",
      "4000026   28446     2700     3.5  1199402412   \n",
      "\n",
      "                                               Title                    Genres  \n",
      "4000022  South Park: Bigger, Longer and Uncut (1999)  Animation|Comedy|Musical  \n",
      "4000023  South Park: Bigger, Longer and Uncut (1999)  Animation|Comedy|Musical  \n",
      "4000024  South Park: Bigger, Longer and Uncut (1999)  Animation|Comedy|Musical  \n",
      "4000025  South Park: Bigger, Longer and Uncut (1999)  Animation|Comedy|Musical  \n",
      "4000026  South Park: Bigger, Longer and Uncut (1999)  Animation|Comedy|Musical  \n",
      "Split 4 DataFrame:\n",
      "         UserID  MovieID  Rating   Timestamp                        Title  \\\n",
      "6000033   44720      788     4.0   863994078  Nutty Professor, The (1996)   \n",
      "6000034   44736      788     2.5  1130493329  Nutty Professor, The (1996)   \n",
      "6000035   44741      788     2.0   974750634  Nutty Professor, The (1996)   \n",
      "6000036   44746      788     3.0   863998636  Nutty Professor, The (1996)   \n",
      "6000037   44750      788     3.0  1123012298  Nutty Professor, The (1996)   \n",
      "\n",
      "                                Genres  \n",
      "6000033  Comedy|Fantasy|Romance|Sci-Fi  \n",
      "6000034  Comedy|Fantasy|Romance|Sci-Fi  \n",
      "6000035  Comedy|Fantasy|Romance|Sci-Fi  \n",
      "6000036  Comedy|Fantasy|Romance|Sci-Fi  \n",
      "6000037  Comedy|Fantasy|Romance|Sci-Fi  \n",
      "Split 5 DataFrame:\n",
      "         UserID  MovieID  Rating   Timestamp                     Title Genres\n",
      "8000044   14055     2739     4.5  1091630779  Color Purple, The (1985)  Drama\n",
      "8000045   14076     2739     2.0   950291525  Color Purple, The (1985)  Drama\n",
      "8000046   14094     2739     5.0   950221196  Color Purple, The (1985)  Drama\n",
      "8000047   14134     2739     3.0  1112698110  Color Purple, The (1985)  Drama\n",
      "8000048   14145     2739     3.0   948376476  Color Purple, The (1985)  Drama\n"
     ]
    }
   ],
   "source": [
    "import numpy as np\n",
    "split_dfs = np.array_split(merged_df, 5) ##https://predictivehacks.com/?all-tips=how-to-split-a-pandas-dataframe-into-equal-parts\n",
    "\n",
    "for i, split_df in enumerate(split_dfs):\n",
    "    print(f\"Split {i+1} DataFrame:\")\n",
    "    print(split_df.head()) \n"
   ]
  },
  {
   "cell_type": "code",
   "execution_count": 7,
   "id": "9bda06b5",
   "metadata": {},
   "outputs": [
    {
     "name": "stdout",
     "output_type": "stream",
     "text": [
      "Length of each split: \n",
      "\n",
      "Split 1 DataFrame:\n",
      "2000011\n",
      "Split 2 DataFrame:\n",
      "2000011\n",
      "Split 3 DataFrame:\n",
      "2000011\n",
      "Split 4 DataFrame:\n",
      "2000011\n",
      "Split 5 DataFrame:\n",
      "2000010\n"
     ]
    }
   ],
   "source": [
    "print(\"Length of each split: \\n\")\n",
    "for i, split_df in enumerate(split_dfs):\n",
    "    print(f\"Split {i+1} DataFrame:\")\n",
    "    print(len(split_df)) "
   ]
  },
  {
   "cell_type": "code",
   "execution_count": 8,
   "id": "11ac1487",
   "metadata": {},
   "outputs": [],
   "source": [
    "# Initialize an empty DataFrame to store the averaged data\n",
    "averaged_dfs = []\n",
    "\n",
    "# Iterate through each split DataFrame\n",
    "for split_df in split_dfs:\n",
    "    # Group the split DataFrame by 'MovieID' and calculate the mean rating for each MovieID\n",
    "    averaged_df = split_df.groupby('MovieID')['Rating'].mean().reset_index()\n",
    "    \n",
    "    # Merge the averaged ratings back with the original split DataFrame to retain other columns\n",
    "    averaged_df = averaged_df.merge(split_df.drop(columns=['Rating']), on='MovieID')\n",
    "    averaged_df = averaged_df.drop_duplicates(subset=['MovieID'])\n",
    "    averaged_df = averaged_df.reset_index(drop=True)\n",
    "    \n",
    "    # Append the averaged DataFrame to the list\n",
    "    averaged_dfs.append(averaged_df)\n",
    "\n",
    "# Now, averaged_dfs contains the modified DataFrames with one rating per MovieID\n"
   ]
  },
  {
   "cell_type": "code",
   "execution_count": 9,
   "id": "6400310d",
   "metadata": {},
   "outputs": [
    {
     "name": "stdout",
     "output_type": "stream",
     "text": [
      "Averaged DataFrame 1:\n",
      "   MovieID    Rating  UserID  Timestamp                     Title  \\\n",
      "0        1  3.928769       5  857911264          Toy Story (1995)   \n",
      "1        7  3.365017       5  857911357            Sabrina (1995)   \n",
      "2       21  3.596913       4  844416980         Get Shorty (1995)   \n",
      "3       25  3.685292       5  857911265  Leaving Las Vegas (1995)   \n",
      "4       28  4.076039       5  857913507         Persuasion (1995)   \n",
      "\n",
      "                                        Genres  \n",
      "0  Adventure|Animation|Children|Comedy|Fantasy  \n",
      "1                               Comedy|Romance  \n",
      "2                          Action|Comedy|Drama  \n",
      "3                                Drama|Romance  \n",
      "4                                Drama|Romance  \n",
      "191\n",
      "Averaged DataFrame 2:\n",
      "   MovieID    Rating  UserID   Timestamp  \\\n",
      "0        2  3.208070       8  1115858432   \n",
      "1        5  3.077435       8  1116550582   \n",
      "2        6  3.813011       8  1116547028   \n",
      "3       16  3.749974       8  1115859664   \n",
      "4       19  2.578199       8  1115859653   \n",
      "\n",
      "                                   Title                      Genres  \n",
      "0                         Jumanji (1995)  Adventure|Children|Fantasy  \n",
      "1     Father of the Bride Part II (1995)                      Comedy  \n",
      "2                            Heat (1995)       Action|Crime|Thriller  \n",
      "3                          Casino (1995)                 Crime|Drama  \n",
      "4  Ace Ventura: When Nature Calls (1995)                      Comedy  \n",
      "401\n",
      "Averaged DataFrame 3:\n",
      "   MovieID    Rating  UserID   Timestamp                           Title  \\\n",
      "0        4  2.860544      10   941544628        Waiting to Exhale (1995)   \n",
      "1       10  3.428301      18  1111546022                GoldenEye (1995)   \n",
      "2       11  3.678753      18  1111545346  American President, The (1995)   \n",
      "3       17  3.979621      10   941527854    Sense and Sensibility (1995)   \n",
      "4       20  2.865002      13  1022096205              Money Train (1995)   \n",
      "\n",
      "                               Genres  \n",
      "0                Comedy|Drama|Romance  \n",
      "1           Action|Adventure|Thriller  \n",
      "2                Comedy|Drama|Romance  \n",
      "3                Comedy|Drama|Romance  \n",
      "4  Action|Comedy|Crime|Drama|Thriller  \n",
      "713\n",
      "Averaged DataFrame 4:\n",
      "   MovieID    Rating  UserID  Timestamp                               Title  \\\n",
      "0        3  3.150385      24  868254301             Grumpier Old Men (1995)   \n",
      "1        8  3.131257      34  981561156                 Tom and Huck (1995)   \n",
      "2        9  2.996823      34  982512463                 Sudden Death (1995)   \n",
      "3       12  2.567197      27  857911972  Dracula: Dead and Loving It (1995)   \n",
      "4       13  3.194079      19  877088233                        Balto (1995)   \n",
      "\n",
      "               Genres  \n",
      "0      Comedy|Romance  \n",
      "1  Adventure|Children  \n",
      "2              Action  \n",
      "3       Comedy|Horror  \n",
      "4  Animation|Children  \n",
      "1000\n",
      "Averaged DataFrame 5:\n",
      "   MovieID    Rating  UserID  Timestamp                          Title  \\\n",
      "0       14  3.438912      64  857914426                   Nixon (1995)   \n",
      "1       33  3.068182     585  941818439        Wings of Courage (1995)   \n",
      "2       35  3.477743      65  970393699              Carrington (1995)   \n",
      "3       37  2.881818    2760  948918838  Across the Sea of Time (1995)   \n",
      "4       38  2.829073     116  841493055            It Takes Two (1995)   \n",
      "\n",
      "                   Genres  \n",
      "0                   Drama  \n",
      "1  Adventure|IMAX|Romance  \n",
      "2           Drama|Romance  \n",
      "3        Documentary|IMAX  \n",
      "4                  Comedy  \n",
      "8376\n"
     ]
    }
   ],
   "source": [
    "for i, averaged_df in enumerate(averaged_dfs):\n",
    "    print(f\"Averaged DataFrame {i+1}:\")\n",
    "    print(averaged_df.head())\n",
    "    print(len(averaged_df))\n"
   ]
  },
  {
   "cell_type": "markdown",
   "id": "5fbae357",
   "metadata": {},
   "source": [
    "# b.\tSort the data from the highest rating movie to the lowest one. Measure how much time sorting takes. \n"
   ]
  },
  {
   "cell_type": "markdown",
   "id": "b82f480a",
   "metadata": {},
   "source": [
    "### Without using built in sort function"
   ]
  },
  {
   "cell_type": "code",
   "execution_count": 10,
   "id": "c493d500",
   "metadata": {},
   "outputs": [],
   "source": [
    "def quicksort(df):\n",
    "    if len(df) <= 1:\n",
    "        return df\n",
    "    pivot = df.iloc[len(df) // 2]['Rating']\n",
    "    left = df[df['Rating'] > pivot]\n",
    "    middle = df[df['Rating'] == pivot]\n",
    "    right = df[df['Rating'] < pivot]\n",
    "    return pd.concat([quicksort(left), middle, quicksort(right)])"
   ]
  },
  {
   "cell_type": "code",
   "execution_count": 11,
   "id": "f02b605a",
   "metadata": {},
   "outputs": [
    {
     "name": "stdout",
     "output_type": "stream",
     "text": [
      "Split 1 Sorting Time: 0.49 seconds\n",
      "Split 2 Sorting Time: 1.04 seconds\n",
      "Split 3 Sorting Time: 1.47 seconds\n",
      "Split 4 Sorting Time: 2.39 seconds\n",
      "Split 5 Sorting Time: 13.77 seconds\n"
     ]
    }
   ],
   "source": [
    "#measuring time \n",
    "import time\n",
    "sorted_dfs = []\n",
    "for i, averaged_df in enumerate(averaged_dfs):\n",
    "    start_time = time.time()\n",
    "    sorted_df = quicksort(averaged_df.copy())  # Making a copy to preserve the original split_df\n",
    "    end_time = time.time()\n",
    "    elapsed_time = end_time - start_time\n",
    "    print(f\"Split {i+1} Sorting Time: {elapsed_time:.2f} seconds\")\n",
    "    sorted_dfs.append(sorted_df)"
   ]
  },
  {
   "cell_type": "code",
   "execution_count": 12,
   "id": "07b68117",
   "metadata": {},
   "outputs": [
    {
     "name": "stdout",
     "output_type": "stream",
     "text": [
      "Sorted DataFrame 1:\n",
      "     MovieID    Rating  UserID   Timestamp  \\\n",
      "109      858  4.415085       2   868245645   \n",
      "80       527  4.363483       5   857912593   \n",
      "111      912  4.319741       5   857912791   \n",
      "139     1221  4.303215       5   857912738   \n",
      "130     1193  4.292380       6  1001082973   \n",
      "\n",
      "                                      Title         Genres  \n",
      "109                   Godfather, The (1972)    Crime|Drama  \n",
      "80                  Schindler's List (1993)      Drama|War  \n",
      "111                       Casablanca (1942)  Drama|Romance  \n",
      "139          Godfather: Part II, The (1974)    Crime|Drama  \n",
      "130  One Flew Over the Cuckoo's Nest (1975)   Comedy|Drama  \n",
      "Sorted DataFrame 2:\n",
      "     MovieID    Rating  UserID   Timestamp                       Title  \\\n",
      "8         50  4.367142       7  1050329529  Usual Suspects, The (1995)   \n",
      "81       904  4.316544       7  1050098597          Rear Window (1954)   \n",
      "353     3435  4.315439       7  1049845600     Double Indemnity (1944)   \n",
      "117     1212  4.313629       7  1050098597       Third Man, The (1949)   \n",
      "138     1284  4.267953       7  1049845625       Big Sleep, The (1946)   \n",
      "\n",
      "                         Genres  \n",
      "8        Crime|Mystery|Thriller  \n",
      "81             Mystery|Thriller  \n",
      "353       Crime|Drama|Film-Noir  \n",
      "117  Film-Noir|Mystery|Thriller  \n",
      "138     Crime|Film-Noir|Mystery  \n",
      "Sorted DataFrame 3:\n",
      "     MovieID    Rating  UserID   Timestamp  \\\n",
      "26       318  4.457238      18  1111545917   \n",
      "47       750  4.298072      11   945877215   \n",
      "77      1203  4.238117      13  1023204949   \n",
      "289     3429  4.204200       9  1162141553   \n",
      "70      1131  4.195168      10   942836214   \n",
      "\n",
      "                                                 Title            Genres  \n",
      "26                    Shawshank Redemption, The (1994)             Drama  \n",
      "47   Dr. Strangelove or: How I Learned to Stop Worr...        Comedy|War  \n",
      "77                                 12 Angry Men (1957)             Drama  \n",
      "289                           Creature Comforts (1989)  Animation|Comedy  \n",
      "70                             Jean de Florette (1986)             Drama  \n",
      "Sorted DataFrame 4:\n",
      "     MovieID    Rating  UserID  Timestamp  \\\n",
      "190      922  4.321966      19  877080344   \n",
      "381     2019  4.314119      19  877082379   \n",
      "240     1178  4.306805      51  941561116   \n",
      "148      745  4.274953      23  849543703   \n",
      "562     3022  4.257644      51  982368566   \n",
      "\n",
      "                                             Title                     Genres  \n",
      "190  Sunset Blvd. (a.k.a. Sunset Boulevard) (1950)    Drama|Film-Noir|Romance  \n",
      "381    Seven Samurai (Shichinin no samurai) (1954)               Action|Drama  \n",
      "240                          Paths of Glory (1957)                  Drama|War  \n",
      "148         Wallace & Gromit: A Close Shave (1995)  Animation|Children|Comedy  \n",
      "562                            General, The (1927)                 Comedy|War  \n",
      "Sorted DataFrame 5:\n",
      "      MovieID  Rating  UserID   Timestamp  \\\n",
      "6845    33264     5.0   48159  1225291417   \n",
      "7140    42783     5.0   56915  1221758754   \n",
      "7513    51209     5.0   44076  1227073013   \n",
      "7618    53355     5.0   42966  1226808362   \n",
      "8310    64275     5.0   62510  1231021319   \n",
      "\n",
      "                                         Title                 Genres  \n",
      "6845         Satan's Tango (Sátántangó) (1994)                  Drama  \n",
      "7140     Shadows of Forgotten Ancestors (1964)          Drama|Romance  \n",
      "7513      Fighting Elegy (Kenka erejii) (1966)          Action|Comedy  \n",
      "7618            Sun Alley (Sonnenallee) (1999)         Comedy|Romance  \n",
      "8310  Blue Light, The (Das Blaue Licht) (1932)  Drama|Fantasy|Mystery  \n"
     ]
    }
   ],
   "source": [
    "for i, sorted_df in enumerate(sorted_dfs):\n",
    "    print(f\"Sorted DataFrame {i+1}:\")\n",
    "    print(sorted_df.head())\n"
   ]
  },
  {
   "cell_type": "code",
   "execution_count": null,
   "id": "93fd2c53",
   "metadata": {},
   "outputs": [],
   "source": []
  },
  {
   "cell_type": "markdown",
   "id": "10383d3c",
   "metadata": {},
   "source": [
    "### Using Sort function"
   ]
  },
  {
   "cell_type": "code",
   "execution_count": 13,
   "id": "06fa0fa0",
   "metadata": {},
   "outputs": [
    {
     "name": "stdout",
     "output_type": "stream",
     "text": [
      "Split 1 Sorting Time: 0.51 seconds\n",
      "Split 2 Sorting Time: 1.03 seconds\n",
      "Split 3 Sorting Time: 1.81 seconds\n",
      "Split 4 Sorting Time: 2.45 seconds\n",
      "Split 5 Sorting Time: 13.98 seconds\n"
     ]
    }
   ],
   "source": [
    "sorted_dfs_1 = []\n",
    "for i, averaged_df in enumerate(averaged_dfs):\n",
    "    start_time = time.time()\n",
    "    sorted_df_1 = quicksort(averaged_df.copy())  # Making a copy to preserve the original split_df\n",
    "    end_time = time.time()\n",
    "    elapsed_time = end_time - start_time\n",
    "    print(f\"Split {i+1} Sorting Time: {elapsed_time:.2f} seconds\")\n",
    "    sorted_dfs_1.append(sorted_df_1)"
   ]
  },
  {
   "cell_type": "code",
   "execution_count": 14,
   "id": "1311a3ea",
   "metadata": {},
   "outputs": [
    {
     "name": "stdout",
     "output_type": "stream",
     "text": [
      "Sorted DataFrame 1:\n",
      "     MovieID    Rating  UserID   Timestamp  \\\n",
      "109      858  4.415085       2   868245645   \n",
      "80       527  4.363483       5   857912593   \n",
      "111      912  4.319741       5   857912791   \n",
      "139     1221  4.303215       5   857912738   \n",
      "130     1193  4.292380       6  1001082973   \n",
      "\n",
      "                                      Title         Genres  \n",
      "109                   Godfather, The (1972)    Crime|Drama  \n",
      "80                  Schindler's List (1993)      Drama|War  \n",
      "111                       Casablanca (1942)  Drama|Romance  \n",
      "139          Godfather: Part II, The (1974)    Crime|Drama  \n",
      "130  One Flew Over the Cuckoo's Nest (1975)   Comedy|Drama  \n",
      "Sorted DataFrame 2:\n",
      "     MovieID    Rating  UserID   Timestamp                       Title  \\\n",
      "8         50  4.367142       7  1050329529  Usual Suspects, The (1995)   \n",
      "81       904  4.316544       7  1050098597          Rear Window (1954)   \n",
      "353     3435  4.315439       7  1049845600     Double Indemnity (1944)   \n",
      "117     1212  4.313629       7  1050098597       Third Man, The (1949)   \n",
      "138     1284  4.267953       7  1049845625       Big Sleep, The (1946)   \n",
      "\n",
      "                         Genres  \n",
      "8        Crime|Mystery|Thriller  \n",
      "81             Mystery|Thriller  \n",
      "353       Crime|Drama|Film-Noir  \n",
      "117  Film-Noir|Mystery|Thriller  \n",
      "138     Crime|Film-Noir|Mystery  \n",
      "Sorted DataFrame 3:\n",
      "     MovieID    Rating  UserID   Timestamp  \\\n",
      "26       318  4.457238      18  1111545917   \n",
      "47       750  4.298072      11   945877215   \n",
      "77      1203  4.238117      13  1023204949   \n",
      "289     3429  4.204200       9  1162141553   \n",
      "70      1131  4.195168      10   942836214   \n",
      "\n",
      "                                                 Title            Genres  \n",
      "26                    Shawshank Redemption, The (1994)             Drama  \n",
      "47   Dr. Strangelove or: How I Learned to Stop Worr...        Comedy|War  \n",
      "77                                 12 Angry Men (1957)             Drama  \n",
      "289                           Creature Comforts (1989)  Animation|Comedy  \n",
      "70                             Jean de Florette (1986)             Drama  \n",
      "Sorted DataFrame 4:\n",
      "     MovieID    Rating  UserID  Timestamp  \\\n",
      "190      922  4.321966      19  877080344   \n",
      "381     2019  4.314119      19  877082379   \n",
      "240     1178  4.306805      51  941561116   \n",
      "148      745  4.274953      23  849543703   \n",
      "562     3022  4.257644      51  982368566   \n",
      "\n",
      "                                             Title                     Genres  \n",
      "190  Sunset Blvd. (a.k.a. Sunset Boulevard) (1950)    Drama|Film-Noir|Romance  \n",
      "381    Seven Samurai (Shichinin no samurai) (1954)               Action|Drama  \n",
      "240                          Paths of Glory (1957)                  Drama|War  \n",
      "148         Wallace & Gromit: A Close Shave (1995)  Animation|Children|Comedy  \n",
      "562                            General, The (1927)                 Comedy|War  \n",
      "Sorted DataFrame 5:\n",
      "      MovieID  Rating  UserID   Timestamp  \\\n",
      "6845    33264     5.0   48159  1225291417   \n",
      "7140    42783     5.0   56915  1221758754   \n",
      "7513    51209     5.0   44076  1227073013   \n",
      "7618    53355     5.0   42966  1226808362   \n",
      "8310    64275     5.0   62510  1231021319   \n",
      "\n",
      "                                         Title                 Genres  \n",
      "6845         Satan's Tango (Sátántangó) (1994)                  Drama  \n",
      "7140     Shadows of Forgotten Ancestors (1964)          Drama|Romance  \n",
      "7513      Fighting Elegy (Kenka erejii) (1966)          Action|Comedy  \n",
      "7618            Sun Alley (Sonnenallee) (1999)         Comedy|Romance  \n",
      "8310  Blue Light, The (Das Blaue Licht) (1932)  Drama|Fantasy|Mystery  \n"
     ]
    }
   ],
   "source": [
    "for i, sorted_df_1 in enumerate(sorted_dfs_1):\n",
    "    print(f\"Sorted DataFrame {i+1}:\")\n",
    "    print(sorted_df_1.head())\n"
   ]
  },
  {
   "cell_type": "markdown",
   "id": "66308586",
   "metadata": {},
   "source": [
    "### Merging the sorted dataframe"
   ]
  },
  {
   "cell_type": "code",
   "execution_count": 15,
   "id": "b6271a15",
   "metadata": {},
   "outputs": [
    {
     "data": {
      "text/html": [
       "<div>\n",
       "<style scoped>\n",
       "    .dataframe tbody tr th:only-of-type {\n",
       "        vertical-align: middle;\n",
       "    }\n",
       "\n",
       "    .dataframe tbody tr th {\n",
       "        vertical-align: top;\n",
       "    }\n",
       "\n",
       "    .dataframe thead th {\n",
       "        text-align: right;\n",
       "    }\n",
       "</style>\n",
       "<table border=\"1\" class=\"dataframe\">\n",
       "  <thead>\n",
       "    <tr style=\"text-align: right;\">\n",
       "      <th></th>\n",
       "      <th>MovieID</th>\n",
       "      <th>Rating</th>\n",
       "      <th>UserID</th>\n",
       "      <th>Timestamp</th>\n",
       "      <th>Title</th>\n",
       "      <th>Genres</th>\n",
       "    </tr>\n",
       "  </thead>\n",
       "  <tbody>\n",
       "    <tr>\n",
       "      <th>0</th>\n",
       "      <td>858</td>\n",
       "      <td>4.415085</td>\n",
       "      <td>2</td>\n",
       "      <td>868245645</td>\n",
       "      <td>Godfather, The (1972)</td>\n",
       "      <td>Crime|Drama</td>\n",
       "    </tr>\n",
       "    <tr>\n",
       "      <th>1</th>\n",
       "      <td>527</td>\n",
       "      <td>4.363483</td>\n",
       "      <td>5</td>\n",
       "      <td>857912593</td>\n",
       "      <td>Schindler's List (1993)</td>\n",
       "      <td>Drama|War</td>\n",
       "    </tr>\n",
       "    <tr>\n",
       "      <th>2</th>\n",
       "      <td>912</td>\n",
       "      <td>4.319741</td>\n",
       "      <td>5</td>\n",
       "      <td>857912791</td>\n",
       "      <td>Casablanca (1942)</td>\n",
       "      <td>Drama|Romance</td>\n",
       "    </tr>\n",
       "    <tr>\n",
       "      <th>3</th>\n",
       "      <td>1221</td>\n",
       "      <td>4.303215</td>\n",
       "      <td>5</td>\n",
       "      <td>857912738</td>\n",
       "      <td>Godfather: Part II, The (1974)</td>\n",
       "      <td>Crime|Drama</td>\n",
       "    </tr>\n",
       "    <tr>\n",
       "      <th>4</th>\n",
       "      <td>1193</td>\n",
       "      <td>4.292380</td>\n",
       "      <td>6</td>\n",
       "      <td>1001082973</td>\n",
       "      <td>One Flew Over the Cuckoo's Nest (1975)</td>\n",
       "      <td>Comedy|Drama</td>\n",
       "    </tr>\n",
       "    <tr>\n",
       "      <th>...</th>\n",
       "      <td>...</td>\n",
       "      <td>...</td>\n",
       "      <td>...</td>\n",
       "      <td>...</td>\n",
       "      <td>...</td>\n",
       "      <td>...</td>\n",
       "    </tr>\n",
       "    <tr>\n",
       "      <th>10676</th>\n",
       "      <td>8859</td>\n",
       "      <td>0.803279</td>\n",
       "      <td>798</td>\n",
       "      <td>1215547144</td>\n",
       "      <td>SuperBabies: Baby Geniuses 2 (2004)</td>\n",
       "      <td>Comedy</td>\n",
       "    </tr>\n",
       "    <tr>\n",
       "      <th>10677</th>\n",
       "      <td>64999</td>\n",
       "      <td>0.666667</td>\n",
       "      <td>26268</td>\n",
       "      <td>1230749653</td>\n",
       "      <td>War of the Worlds 2: The Next Wave (2008)</td>\n",
       "      <td>Action</td>\n",
       "    </tr>\n",
       "    <tr>\n",
       "      <th>10678</th>\n",
       "      <td>5805</td>\n",
       "      <td>0.500000</td>\n",
       "      <td>15010</td>\n",
       "      <td>1092107651</td>\n",
       "      <td>Besotted (2001)</td>\n",
       "      <td>Drama</td>\n",
       "    </tr>\n",
       "    <tr>\n",
       "      <th>10679</th>\n",
       "      <td>8394</td>\n",
       "      <td>0.500000</td>\n",
       "      <td>30445</td>\n",
       "      <td>1200074027</td>\n",
       "      <td>Hi-Line, The (1999)</td>\n",
       "      <td>Drama</td>\n",
       "    </tr>\n",
       "    <tr>\n",
       "      <th>10680</th>\n",
       "      <td>61768</td>\n",
       "      <td>0.500000</td>\n",
       "      <td>59342</td>\n",
       "      <td>1230070861</td>\n",
       "      <td>Accused (Anklaget) (2005)</td>\n",
       "      <td>Drama</td>\n",
       "    </tr>\n",
       "  </tbody>\n",
       "</table>\n",
       "<p>10681 rows × 6 columns</p>\n",
       "</div>"
      ],
      "text/plain": [
       "       MovieID    Rating  UserID   Timestamp  \\\n",
       "0          858  4.415085       2   868245645   \n",
       "1          527  4.363483       5   857912593   \n",
       "2          912  4.319741       5   857912791   \n",
       "3         1221  4.303215       5   857912738   \n",
       "4         1193  4.292380       6  1001082973   \n",
       "...        ...       ...     ...         ...   \n",
       "10676     8859  0.803279     798  1215547144   \n",
       "10677    64999  0.666667   26268  1230749653   \n",
       "10678     5805  0.500000   15010  1092107651   \n",
       "10679     8394  0.500000   30445  1200074027   \n",
       "10680    61768  0.500000   59342  1230070861   \n",
       "\n",
       "                                           Title         Genres  \n",
       "0                          Godfather, The (1972)    Crime|Drama  \n",
       "1                        Schindler's List (1993)      Drama|War  \n",
       "2                              Casablanca (1942)  Drama|Romance  \n",
       "3                 Godfather: Part II, The (1974)    Crime|Drama  \n",
       "4         One Flew Over the Cuckoo's Nest (1975)   Comedy|Drama  \n",
       "...                                          ...            ...  \n",
       "10676        SuperBabies: Baby Geniuses 2 (2004)         Comedy  \n",
       "10677  War of the Worlds 2: The Next Wave (2008)         Action  \n",
       "10678                            Besotted (2001)          Drama  \n",
       "10679                        Hi-Line, The (1999)          Drama  \n",
       "10680                  Accused (Anklaget) (2005)          Drama  \n",
       "\n",
       "[10681 rows x 6 columns]"
      ]
     },
     "execution_count": 15,
     "metadata": {},
     "output_type": "execute_result"
    }
   ],
   "source": [
    "combined_sorted_df = pd.concat(sorted_dfs_1, ignore_index=True)\n",
    "combined_sorted_df"
   ]
  },
  {
   "cell_type": "markdown",
   "id": "5b758c84",
   "metadata": {},
   "source": [
    "# c.\tCreate histogram of the movie ratings. Measure how much time it takes to create the histogram. \n"
   ]
  },
  {
   "cell_type": "code",
   "execution_count": 16,
   "id": "959d2146",
   "metadata": {},
   "outputs": [
    {
     "data": {
      "image/png": "[encoded data removed]",
      "text/plain": [
       "<Figure size 432x288 with 1 Axes>"
      ]
     },
     "metadata": {
      "needs_background": "light"
     },
     "output_type": "display_data"
    },
    {
     "name": "stdout",
     "output_type": "stream",
     "text": [
      "Time taken to create the histogram: 0.42 seconds\n"
     ]
    }
   ],
   "source": [
    "import matplotlib.pyplot as plt\n",
    "start_time = time.time()\n",
    "\n",
    "\n",
    "bin_edges = np.arange(0, 5.5, 0.5)  \n",
    "plt.hist(combined_sorted_df[\"Rating\"], bins=bin_edges, edgecolor=\"k\")\n",
    "plt.xlabel(\"Rating\")\n",
    "plt.ylabel(\"Frequency\")\n",
    "plt.title(\"Histogram of Movie Ratings\")\n",
    "\n",
    "plt.xticks(bin_edges)\n",
    "\n",
    "plt.grid(axis=\"y\", linestyle=\"--\", alpha=0.7)\n",
    "plt.show()\n",
    "\n",
    "end_time = time.time()\n",
    "elapsed_time = end_time - start_time\n",
    "print(f\"Time taken to create the histogram: {elapsed_time:.2f} seconds\")"
   ]
  },
  {
   "cell_type": "markdown",
   "id": "a6e1acb1",
   "metadata": {},
   "source": [
    "# d.\tData contains more than 10M ratings of 10681 movies by 71567 users. Create histogram of number of times each movie got rated. Measure how much time it takes to create the histogram. \n"
   ]
  },
  {
   "cell_type": "code",
   "execution_count": 17,
   "id": "1140895d",
   "metadata": {},
   "outputs": [
    {
     "data": {
      "text/plain": [
       "296      34864\n",
       "356      34457\n",
       "593      33668\n",
       "480      32631\n",
       "318      31126\n",
       "         ...  \n",
       "6085         1\n",
       "60880        1\n",
       "58595        1\n",
       "58520        1\n",
       "63662        1\n",
       "Name: MovieID, Length: 10677, dtype: int64"
      ]
     },
     "execution_count": 17,
     "metadata": {},
     "output_type": "execute_result"
    }
   ],
   "source": [
    "movie_rating_counts = merged_df['MovieID'].value_counts()\n",
    "movie_rating_counts"
   ]
  },
  {
   "cell_type": "code",
   "execution_count": 18,
   "id": "7be92428",
   "metadata": {},
   "outputs": [
    {
     "data": {
      "image/png": "[encoded data removed]",
      "text/plain": [
       "<Figure size 432x288 with 1 Axes>"
      ]
     },
     "metadata": {
      "needs_background": "light"
     },
     "output_type": "display_data"
    },
    {
     "name": "stdout",
     "output_type": "stream",
     "text": [
      "Time taken to create the histogram: 0.29 seconds\n"
     ]
    }
   ],
   "source": [
    "start_time = time.time()\n",
    "plt.hist(movie_rating_counts, bins=20, edgecolor=\"k\")\n",
    "plt.xlabel(\"Number of Ratings per Movie\")\n",
    "plt.ylabel(\"Frequency\")\n",
    "plt.title(\"Histogram of Number of Ratings per Movie\")\n",
    "\n",
    "plt.xlim(0, 35000) \n",
    "\n",
    "plt.show()\n",
    "\n",
    "end_time = time.time()\n",
    "elapsed_time = end_time - start_time\n",
    "print(f\"Time taken to create the histogram: {elapsed_time:.2f} seconds\")"
   ]
  },
  {
   "cell_type": "markdown",
   "id": "3a3ccfce",
   "metadata": {},
   "source": [
    "# e.\tChoose the lowest three bins of histogram in part C and create a histogram of movie ratings for these three bins. Do the same thing for the top three bins of the histogram"
   ]
  },
  {
   "cell_type": "code",
   "execution_count": 27,
   "id": "cf4df3aa",
   "metadata": {},
   "outputs": [
    {
     "data": {
      "image/png": "[encoded data removed]",
      "text/plain": [
       "<Figure size 432x288 with 1 Axes>"
      ]
     },
     "metadata": {
      "needs_background": "light"
     },
     "output_type": "display_data"
    }
   ],
   "source": [
    "bin_edges = np.arange(0, 5.5, 0.5) \n",
    "hist, bins, _ = plt.hist(combined_sorted_df[\"Rating\"], bins=bin_edges, edgecolor=\"k\")"
   ]
  },
  {
   "cell_type": "code",
   "execution_count": 29,
   "id": "149238ba",
   "metadata": {},
   "outputs": [],
   "source": [
    "lowest_three_bins = bins[:3]\n",
    "highest_three_bins = bins[-3:]"
   ]
  },
  {
   "cell_type": "code",
   "execution_count": 34,
   "id": "a134d5f5",
   "metadata": {},
   "outputs": [
    {
     "name": "stdout",
     "output_type": "stream",
     "text": [
      "[0.  0.5 1. ]\n",
      "[4.  4.5 5. ]\n"
     ]
    }
   ],
   "source": [
    "print(lowest_three_bins)\n",
    "print(highest_three_bins)"
   ]
  },
  {
   "cell_type": "code",
   "execution_count": 30,
   "id": "bfe7b017",
   "metadata": {},
   "outputs": [],
   "source": [
    "lowest_three_data = combined_sorted_df[combined_sorted_df['Rating'].isin(lowest_three_bins)]\n",
    "highest_three_data = combined_sorted_df[combined_sorted_df['Rating'].isin(highest_three_bins)]"
   ]
  },
  {
   "cell_type": "markdown",
   "id": "47ca069b",
   "metadata": {},
   "source": [
    "Lowest 3 bins"
   ]
  },
  {
   "cell_type": "code",
   "execution_count": 31,
   "id": "0725b867",
   "metadata": {},
   "outputs": [
    {
     "data": {
      "image/png": "[encoded data removed]",
      "text/plain": [
       "<Figure size 432x288 with 1 Axes>"
      ]
     },
     "metadata": {
      "needs_background": "light"
     },
     "output_type": "display_data"
    },
    {
     "name": "stdout",
     "output_type": "stream",
     "text": [
      "Time to Create Histogram for Lowest Three Bins: 0.04227757453918457 seconds\n"
     ]
    }
   ],
   "source": [
    "start_time = time.time()\n",
    "plt.hist(lowest_three_bins_data['Rating'], bins=5, edgecolor='black')  \n",
    "\n",
    "end_time = time.time()\n",
    "histogram_time = end_time - start_time\n",
    "\n",
    "plt.xlabel('Rating')\n",
    "plt.ylabel('Frequency')\n",
    "plt.title('Movie Ratings Lowest Three Bins')\n",
    "plt.show()\n",
    "\n",
    "print(f\"Time to Create Histogram for Lowest Three Bins: {histogram_time} seconds\")"
   ]
  },
  {
   "cell_type": "markdown",
   "id": "8f3d0c25",
   "metadata": {},
   "source": [
    "Highest 3 bins"
   ]
  },
  {
   "cell_type": "code",
   "execution_count": 32,
   "id": "0b263676",
   "metadata": {},
   "outputs": [
    {
     "data": {
      "image/png": "[encoded data removed]",
      "text/plain": [
       "<Figure size 432x288 with 1 Axes>"
      ]
     },
     "metadata": {
      "needs_background": "light"
     },
     "output_type": "display_data"
    },
    {
     "name": "stdout",
     "output_type": "stream",
     "text": [
      "Time to Create Histogram for Highest Three Bins: 0.0403437614440918 seconds\n"
     ]
    }
   ],
   "source": [
    "start_time = time.time()\n",
    "plt.hist(highest_three_bins_data['Rating'], bins=5, edgecolor='black')  # Adjust the number of bins as needed\n",
    "\n",
    "end_time = time.time()\n",
    "histogram_time = end_time - start_time\n",
    "\n",
    "plt.xlabel('Rating')\n",
    "plt.ylabel('Frequency')\n",
    "plt.title('Movie Ratings Highest Three Bins)')\n",
    "plt.show()\n",
    "\n",
    "print(f\"Time to Create Histogram for Highest Three Bins: {histogram_time} seconds\")"
   ]
  },
  {
   "cell_type": "code",
   "execution_count": 35,
   "id": "f71ce561",
   "metadata": {},
   "outputs": [
    {
     "data": {
      "text/html": [
       "<div>\n",
       "<style scoped>\n",
       "    .dataframe tbody tr th:only-of-type {\n",
       "        vertical-align: middle;\n",
       "    }\n",
       "\n",
       "    .dataframe tbody tr th {\n",
       "        vertical-align: top;\n",
       "    }\n",
       "\n",
       "    .dataframe thead th {\n",
       "        text-align: right;\n",
       "    }\n",
       "</style>\n",
       "<table border=\"1\" class=\"dataframe\">\n",
       "  <thead>\n",
       "    <tr style=\"text-align: right;\">\n",
       "      <th></th>\n",
       "      <th>MovieID</th>\n",
       "      <th>Rating</th>\n",
       "      <th>UserID</th>\n",
       "      <th>Timestamp</th>\n",
       "      <th>Title</th>\n",
       "      <th>Genres</th>\n",
       "    </tr>\n",
       "  </thead>\n",
       "  <tbody>\n",
       "    <tr>\n",
       "      <th>1377</th>\n",
       "      <td>2612</td>\n",
       "      <td>4.0</td>\n",
       "      <td>51</td>\n",
       "      <td>982367870</td>\n",
       "      <td>Mildred Pierce (1945)</td>\n",
       "      <td>Drama|Film-Noir</td>\n",
       "    </tr>\n",
       "    <tr>\n",
       "      <th>1378</th>\n",
       "      <td>5120</td>\n",
       "      <td>4.0</td>\n",
       "      <td>51</td>\n",
       "      <td>1023918123</td>\n",
       "      <td>Sleuth (1972)</td>\n",
       "      <td>Comedy|Mystery|Thriller</td>\n",
       "    </tr>\n",
       "    <tr>\n",
       "      <th>1379</th>\n",
       "      <td>56367</td>\n",
       "      <td>4.0</td>\n",
       "      <td>38</td>\n",
       "      <td>1208669800</td>\n",
       "      <td>Juno (2007)</td>\n",
       "      <td>Drama|Romance</td>\n",
       "    </tr>\n",
       "    <tr>\n",
       "      <th>2305</th>\n",
       "      <td>33264</td>\n",
       "      <td>5.0</td>\n",
       "      <td>48159</td>\n",
       "      <td>1225291417</td>\n",
       "      <td>Satan's Tango (Sátántangó) (1994)</td>\n",
       "      <td>Drama</td>\n",
       "    </tr>\n",
       "    <tr>\n",
       "      <th>2306</th>\n",
       "      <td>42783</td>\n",
       "      <td>5.0</td>\n",
       "      <td>56915</td>\n",
       "      <td>1221758754</td>\n",
       "      <td>Shadows of Forgotten Ancestors (1964)</td>\n",
       "      <td>Drama|Romance</td>\n",
       "    </tr>\n",
       "    <tr>\n",
       "      <th>...</th>\n",
       "      <td>...</td>\n",
       "      <td>...</td>\n",
       "      <td>...</td>\n",
       "      <td>...</td>\n",
       "      <td>...</td>\n",
       "      <td>...</td>\n",
       "    </tr>\n",
       "    <tr>\n",
       "      <th>2579</th>\n",
       "      <td>64427</td>\n",
       "      <td>4.0</td>\n",
       "      <td>69135</td>\n",
       "      <td>1229529033</td>\n",
       "      <td>Much Ado About Something (2001)</td>\n",
       "      <td>Documentary</td>\n",
       "    </tr>\n",
       "    <tr>\n",
       "      <th>2580</th>\n",
       "      <td>64501</td>\n",
       "      <td>4.0</td>\n",
       "      <td>29892</td>\n",
       "      <td>1230604644</td>\n",
       "      <td>Che: Part Two (2008)</td>\n",
       "      <td>Drama|War</td>\n",
       "    </tr>\n",
       "    <tr>\n",
       "      <th>2581</th>\n",
       "      <td>64906</td>\n",
       "      <td>4.0</td>\n",
       "      <td>1849</td>\n",
       "      <td>1230368376</td>\n",
       "      <td>Battle of Britain, The (Why We Fight, 4) (1943)</td>\n",
       "      <td>Documentary|War</td>\n",
       "    </tr>\n",
       "    <tr>\n",
       "      <th>2582</th>\n",
       "      <td>65006</td>\n",
       "      <td>4.0</td>\n",
       "      <td>56091</td>\n",
       "      <td>1230447009</td>\n",
       "      <td>Impulse (2008)</td>\n",
       "      <td>Mystery|Thriller</td>\n",
       "    </tr>\n",
       "    <tr>\n",
       "      <th>2583</th>\n",
       "      <td>65011</td>\n",
       "      <td>4.0</td>\n",
       "      <td>16321</td>\n",
       "      <td>1230468227</td>\n",
       "      <td>Zona Zamfirova (2002)</td>\n",
       "      <td>Comedy|Drama</td>\n",
       "    </tr>\n",
       "  </tbody>\n",
       "</table>\n",
       "<p>61 rows × 6 columns</p>\n",
       "</div>"
      ],
      "text/plain": [
       "      MovieID  Rating  UserID   Timestamp  \\\n",
       "1377     2612     4.0      51   982367870   \n",
       "1378     5120     4.0      51  1023918123   \n",
       "1379    56367     4.0      38  1208669800   \n",
       "2305    33264     5.0   48159  1225291417   \n",
       "2306    42783     5.0   56915  1221758754   \n",
       "...       ...     ...     ...         ...   \n",
       "2579    64427     4.0   69135  1229529033   \n",
       "2580    64501     4.0   29892  1230604644   \n",
       "2581    64906     4.0    1849  1230368376   \n",
       "2582    65006     4.0   56091  1230447009   \n",
       "2583    65011     4.0   16321  1230468227   \n",
       "\n",
       "                                                Title                   Genres  \n",
       "1377                            Mildred Pierce (1945)          Drama|Film-Noir  \n",
       "1378                                    Sleuth (1972)  Comedy|Mystery|Thriller  \n",
       "1379                                      Juno (2007)            Drama|Romance  \n",
       "2305                Satan's Tango (Sátántangó) (1994)                    Drama  \n",
       "2306            Shadows of Forgotten Ancestors (1964)            Drama|Romance  \n",
       "...                                               ...                      ...  \n",
       "2579                  Much Ado About Something (2001)              Documentary  \n",
       "2580                             Che: Part Two (2008)                Drama|War  \n",
       "2581  Battle of Britain, The (Why We Fight, 4) (1943)          Documentary|War  \n",
       "2582                                   Impulse (2008)         Mystery|Thriller  \n",
       "2583                            Zona Zamfirova (2002)             Comedy|Drama  \n",
       "\n",
       "[61 rows x 6 columns]"
      ]
     },
     "execution_count": 35,
     "metadata": {},
     "output_type": "execute_result"
    }
   ],
   "source": [
    "highest_three_bins_data\n"
   ]
  },
  {
   "cell_type": "code",
   "execution_count": null,
   "id": "17f57950",
   "metadata": {},
   "outputs": [],
   "source": []
  }
 ],
 "metadata": {
  "kernelspec": {
   "display_name": "Python 3 (ipykernel)",
   "language": "python",
   "name": "python3"
  },
  "language_info": {
   "codemirror_mode": {
    "name": "ipython",
    "version": 3
   },
   "file_extension": ".py",
   "mimetype": "text/x-python",
   "name": "python",
   "nbconvert_exporter": "python",
   "pygments_lexer": "ipython3",
   "version": "3.9.12"
  }
 },
 "nbformat": 4,
 "nbformat_minor": 5
}
